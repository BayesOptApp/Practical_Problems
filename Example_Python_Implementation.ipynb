{
 "cells": [
  {
   "cell_type": "code",
   "execution_count": 26,
   "id": "bb6c8f12",
   "metadata": {},
   "outputs": [],
   "source": [
    "from Practical_Problems_Suite import get_practical_problem\n",
    "import numpy as np"
   ]
  },
  {
   "cell_type": "code",
   "execution_count": 27,
   "id": "b482383e",
   "metadata": {},
   "outputs": [
    {
     "name": "stdout",
     "output_type": "stream",
     "text": [
      "bench_fun_pitz\n"
     ]
    }
   ],
   "source": [
    "# Set the dimensionality\n",
    "dimension:int = 10\n",
    "\n",
    "# Try to get the Tersoff_potentialC1\n",
    "problem_instance = get_practical_problem(1122,dim=dimension)\n",
    "print(problem_instance.meta_data.name)"
   ]
  },
  {
   "cell_type": "code",
   "execution_count": null,
   "id": "18399477",
   "metadata": {},
   "outputs": [
    {
     "name": "stdout",
     "output_type": "stream",
     "text": [
      "Input vector: [-2.01710744  2.68681635  1.09529041  1.59817269  1.92737404  2.04161209\n",
      "  4.2236772   4.64630961 -1.31496666  0.846118  ]\n"
     ]
    }
   ],
   "source": [
    "#vector_inp = np.random.uniform(-5,5,(dimension,))\n",
    "# vector_inp = np.asarray([0.166666666666667,0.831910785957425,\n",
    "# 0.500000000000000,\n",
    "# 0.166666666666667,\n",
    "# 0.833333333333333,\n",
    "# 0.500000000000000])\n",
    "vector_inp = np.zeros((dimension,)).ravel()  # Example input\n",
    "\n",
    "#vector_inp = vector_inp*10-5\n",
    "print(\"Input vector:\", vector_inp)"
   ]
  },
  {
   "cell_type": "code",
   "execution_count": 50,
   "id": "75a6f664",
   "metadata": {},
   "outputs": [
    {
     "data": {
      "text/plain": [
       "1.0"
      ]
     },
     "execution_count": 50,
     "metadata": {},
     "output_type": "execute_result"
    }
   ],
   "source": [
    "problem_instance(vector_inp)"
   ]
  },
  {
   "cell_type": "code",
   "execution_count": 32,
   "id": "c8ceb309",
   "metadata": {},
   "outputs": [
    {
     "name": "stdout",
     "output_type": "stream",
     "text": [
      "<RealSingleObjectiveProblem 0. bench_fun_pitz (iid=1122 dim=10)>\n"
     ]
    }
   ],
   "source": [
    "print(problem_instance)"
   ]
  },
  {
   "cell_type": "code",
   "execution_count": null,
   "id": "7b9fe2c8",
   "metadata": {},
   "outputs": [],
   "source": []
  }
 ],
 "metadata": {
  "kernelspec": {
   "display_name": "stripinis_test",
   "language": "python",
   "name": "python3"
  },
  "language_info": {
   "codemirror_mode": {
    "name": "ipython",
    "version": 3
   },
   "file_extension": ".py",
   "mimetype": "text/x-python",
   "name": "python",
   "nbconvert_exporter": "python",
   "pygments_lexer": "ipython3",
   "version": "3.10.16"
  }
 },
 "nbformat": 4,
 "nbformat_minor": 5
}
