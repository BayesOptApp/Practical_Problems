{
 "cells": [
  {
   "cell_type": "code",
   "execution_count": 1,
   "id": "bb6c8f12",
   "metadata": {},
   "outputs": [],
   "source": [
    "from Practical_Problems_Suite import get_practical_problem\n",
    "import numpy as np"
   ]
  },
  {
   "cell_type": "code",
   "execution_count": null,
   "id": "b482383e",
   "metadata": {},
   "outputs": [
    {
     "name": "stdout",
     "output_type": "stream",
     "text": [
      "bench_fun_pitz\n"
     ]
    }
   ],
   "source": [
    "# Set the dimensionality\n",
    "dimension:int = 10\n",
    "\n",
    "# Try to get the Tersoff_potentialC1\n",
    "problem_instance = get_practical_problem(1122,dim=dimension)\n",
    "\n",
    "print(problem_instance.meta_data.name, problem_instance.meta_data.problem_id)"
   ]
  },
  {
   "cell_type": "code",
   "execution_count": 62,
   "id": "18399477",
   "metadata": {},
   "outputs": [
    {
     "data": {
      "text/plain": [
       "array([0., 0., 0., 0., 0., 0., 0., 0., 0., 0.])"
      ]
     },
     "execution_count": 62,
     "metadata": {},
     "output_type": "execute_result"
    }
   ],
   "source": [
    "#vector_inp = np.random.uniform(-5,5,(dimension,))\n",
    "vector_inp = np.zeros((dimension,))\n",
    "vector_inp"
   ]
  },
  {
   "cell_type": "code",
   "execution_count": 63,
   "id": "75a6f664",
   "metadata": {},
   "outputs": [
    {
     "data": {
      "text/plain": [
       "0.231438314008"
      ]
     },
     "execution_count": 63,
     "metadata": {},
     "output_type": "execute_result"
    }
   ],
   "source": [
    "problem_instance(vector_inp)"
   ]
  },
  {
   "cell_type": "code",
   "execution_count": null,
   "id": "c8ceb309",
   "metadata": {},
   "outputs": [],
   "source": []
  }
 ],
 "metadata": {
  "kernelspec": {
   "display_name": "stripinis_test",
   "language": "python",
   "name": "python3"
  },
  "language_info": {
   "codemirror_mode": {
    "name": "ipython",
    "version": 3
   },
   "file_extension": ".py",
   "mimetype": "text/x-python",
   "name": "python",
   "nbconvert_exporter": "python",
   "pygments_lexer": "ipython3",
   "version": "3.10.16"
  }
 },
 "nbformat": 4,
 "nbformat_minor": 5
}
